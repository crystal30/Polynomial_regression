{
 "cells": [
  {
   "cell_type": "code",
   "execution_count": 6,
   "metadata": {},
   "outputs": [],
   "source": [
    "import numpy as np\n",
    "from sklearn import datasets \n",
    "datas = datasets.load_digits()"
   ]
  },
  {
   "cell_type": "code",
   "execution_count": 7,
   "metadata": {},
   "outputs": [
    {
     "data": {
      "text/plain": [
       "dict_keys(['data', 'target', 'target_names', 'images', 'DESCR'])"
      ]
     },
     "execution_count": 7,
     "metadata": {},
     "output_type": "execute_result"
    }
   ],
   "source": [
    "datas.keys()"
   ]
  },
  {
   "cell_type": "code",
   "execution_count": 8,
   "metadata": {},
   "outputs": [],
   "source": [
    "X = datas.data\n",
    "y = datas.target"
   ]
  },
  {
   "cell_type": "code",
   "execution_count": 9,
   "metadata": {},
   "outputs": [
    {
     "name": "stderr",
     "output_type": "stream",
     "text": [
      "/home/crystal/anaconda3/lib/python3.6/importlib/_bootstrap.py:219: RuntimeWarning: numpy.dtype size changed, may indicate binary incompatibility. Expected 96, got 88\n",
      "  return f(*args, **kwds)\n"
     ]
    }
   ],
   "source": [
    "from sklearn.model_selection import train_test_split\n",
    "X_train, X_test, y_train, y_test = train_test_split(X, y, test_size=0.4, random_state=666)"
   ]
  },
  {
   "cell_type": "markdown",
   "metadata": {},
   "source": [
    "# 1.用循环来搜寻合适的参数"
   ]
  },
  {
   "cell_type": "code",
   "execution_count": 11,
   "metadata": {},
   "outputs": [
    {
     "name": "stderr",
     "output_type": "stream",
     "text": [
      "/home/crystal/anaconda3/lib/python3.6/importlib/_bootstrap.py:219: RuntimeWarning: numpy.dtype size changed, may indicate binary incompatibility. Expected 96, got 88\n",
      "  return f(*args, **kwds)\n"
     ]
    },
    {
     "name": "stdout",
     "output_type": "stream",
     "text": [
      "0.9860917941585535 3 4\n"
     ]
    }
   ],
   "source": [
    "\n",
    "from sklearn.neighbors import KNeighborsClassifier\n",
    "best_score, best_k, best_p = 0, 0, 0\n",
    "for k in range(2,11):\n",
    "    for p in range(1,6):\n",
    "        KnnClf = KNeighborsClassifier(n_neighbors=k, weights='distance', p=p)\n",
    "        KnnClf.fit(X_train, y_train)\n",
    "        score = KnnClf.score(X_test, y_test)\n",
    "        if score > best_score: \n",
    "            best_score, best_k, best_p = score, k, p\n",
    "\n",
    "print(best_score, best_k, best_p)\n",
    "            "
   ]
  },
  {
   "cell_type": "markdown",
   "metadata": {},
   "source": [
    "# 2.(1)用sklearn中的Cross-validation 的方法来搜寻最佳的超参数"
   ]
  },
  {
   "cell_type": "code",
   "execution_count": 15,
   "metadata": {},
   "outputs": [
    {
     "name": "stdout",
     "output_type": "stream",
     "text": [
      "0.9823599874006478 2 2\n"
     ]
    }
   ],
   "source": [
    "\n",
    "from sklearn.model_selection import cross_val_score\n",
    "best_score, best_k, best_p = 0, 0, 0\n",
    "for k in range(2,11):\n",
    "    for p in range(1,6):\n",
    "        KnnClf1 = KNeighborsClassifier(n_neighbors=k, weights='distance', p=p)\n",
    "        score = cross_val_score(KnnClf1, X_train, y_train)\n",
    "        mean_score = np.mean(score)\n",
    "        if mean_score > best_score: \n",
    "            best_score, best_k, best_p = mean_score, k, p\n",
    "\n",
    "print(best_score, best_k, best_p)"
   ]
  },
  {
   "cell_type": "code",
   "execution_count": 53,
   "metadata": {},
   "outputs": [
    {
     "data": {
      "text/plain": [
       "0.980528511821975"
      ]
     },
     "execution_count": 53,
     "metadata": {},
     "output_type": "execute_result"
    }
   ],
   "source": [
    "KnnClf1_best = KNeighborsClassifier(n_neighbors=2, weights='distance', p=2)\n",
    "KnnClf1_best.fit(X_train,y_train)\n",
    "KnnClf1_best.score(X_test,y_test)"
   ]
  },
  {
   "cell_type": "markdown",
   "metadata": {},
   "source": [
    "# (2)自己实现一个交叉验证函数"
   ]
  },
  {
   "cell_type": "code",
   "execution_count": 61,
   "metadata": {},
   "outputs": [
    {
     "name": "stdout",
     "output_type": "stream",
     "text": [
      "0.9842308882698854 4 2\n"
     ]
    }
   ],
   "source": [
    "\n",
    "def mycross_val_score(estimator, X_train, y_train):\n",
    "    n = len(X_train)\n",
    "    index = np.arange(n)\n",
    "    np.random.shuffle(index)\n",
    "    X_train1 = X_train[index[:n//3],:]\n",
    "    y_train1 = y_train[index[:n//3]]\n",
    "    X_train2 = X_train[index[n//3:2*n//3],:]\n",
    "    y_train2 = y_train[index[n//3:2*n//3]]\n",
    "    X_train3 = X_train[index[2*n//3:],:]\n",
    "    y_train3 = y_train[index[2*n//3:]]\n",
    "    \n",
    "    score = []\n",
    "    estimator.fit(np.vstack([X_train1, X_train2]), np.hstack([y_train1, y_train2]))\n",
    "    score.append(estimator.score(X_train3, y_train3))\n",
    "    estimator.fit(np.vstack([X_train1, X_train3]), np.hstack([y_train1, y_train3]))\n",
    "    score.append(estimator.score(X_train2, y_train2))\n",
    "    estimator.fit(np.vstack([X_train2, X_train3]), np.hstack([y_train2, y_train3]))\n",
    "    score.append(estimator.score(X_train1, y_train1))\n",
    "    return score\n",
    "\n",
    "best_score, best_k, best_p = 0, 0, 0\n",
    "for k in range(2,11):\n",
    "    for p in range(1,6):\n",
    "        KnnClf1 = KNeighborsClassifier(n_neighbors=k, weights='distance', p=p)\n",
    "        score = mycross_val_score(KnnClf1, X_train, y_train)\n",
    "        mean_score = np.mean(score)\n",
    "        if mean_score > best_score: \n",
    "            best_score, best_k, best_p = mean_score, k, p\n",
    "\n",
    "print(best_score, best_k, best_p)"
   ]
  },
  {
   "cell_type": "code",
   "execution_count": 62,
   "metadata": {},
   "outputs": [
    {
     "data": {
      "text/plain": [
       "0.9847009735744089"
      ]
     },
     "execution_count": 62,
     "metadata": {},
     "output_type": "execute_result"
    }
   ],
   "source": [
    "KnnClf1_best = KNeighborsClassifier(n_neighbors=4, weights='distance', p=2)\n",
    "KnnClf1_best.fit(X_train,y_train)\n",
    "KnnClf1_best.score(X_test,y_test)"
   ]
  },
  {
   "cell_type": "markdown",
   "metadata": {},
   "source": [
    "# 3.用sklearn中GridSearchCV网格搜索的方法来搜寻最佳的超参数"
   ]
  },
  {
   "cell_type": "code",
   "execution_count": 71,
   "metadata": {},
   "outputs": [
    {
     "name": "stdout",
     "output_type": "stream",
     "text": [
      "Fitting 3 folds for each of 45 candidates, totalling 135 fits\n"
     ]
    },
    {
     "name": "stderr",
     "output_type": "stream",
     "text": [
      "[Parallel(n_jobs=1)]: Done 135 out of 135 | elapsed:  6.1min finished\n"
     ]
    },
    {
     "data": {
      "text/plain": [
       "KNeighborsClassifier(algorithm='auto', leaf_size=30, metric='minkowski',\n",
       "           metric_params=None, n_jobs=1, n_neighbors=2, p=2,\n",
       "           weights='distance')"
      ]
     },
     "execution_count": 71,
     "metadata": {},
     "output_type": "execute_result"
    }
   ],
   "source": [
    "# GridSearchCV 中的CV指的便是Cross-validation（交叉验证）\n",
    "from sklearn.model_selection import GridSearchCV\n",
    "\n",
    "parameters = {'weights' : ['distance'],\n",
    "              'n_neighbors':[i for i in range(2,11)], \n",
    "              'p':[i for i in range(1,6)]}\n",
    "model = KNeighborsClassifier()\n",
    "KnnClf2 = GridSearchCV(model, parameters, verbose=1)\n",
    "KnnClf2.fit(X_train, y_train)\n",
    "\n",
    "KnnClf2.best_estimator_ \n"
   ]
  },
  {
   "cell_type": "markdown",
   "metadata": {},
   "source": [
    "Fitting 3 folds for each of 45 candidates, totalling 135 fits的含义是：   \n",
    "将X_train 分成了3层, 参数的组合总共有9×6=45, 总共需要拟合3×45=135次    \n",
    "注意：默认的是将X_train 分成三份,根据不同的需要,可以通过调整cv这个参数,来决定将X_train分成几分   \n",
    "eg：KnnClf2 = GridSearchCV(model, parameters, verbose=1, cv=5) # 即将传入的数据分成了5份    \n",
    "同理：cross_val_score(KnnClf1, X_train, y_train, cv=5)  # cv =5, 即将传入的数据分成了5份   \n"
   ]
  },
  {
   "cell_type": "code",
   "execution_count": 68,
   "metadata": {},
   "outputs": [
    {
     "data": {
      "text/plain": [
       "{'n_neighbors': 2, 'p': 2, 'weights': 'distance'}"
      ]
     },
     "execution_count": 68,
     "metadata": {},
     "output_type": "execute_result"
    }
   ],
   "source": [
    "KnnClf2.best_params_"
   ]
  },
  {
   "cell_type": "code",
   "execution_count": 69,
   "metadata": {},
   "outputs": [
    {
     "data": {
      "text/plain": [
       "0.9823747680890538"
      ]
     },
     "execution_count": 69,
     "metadata": {},
     "output_type": "execute_result"
    }
   ],
   "source": [
    "KnnClf2.best_score_"
   ]
  },
  {
   "cell_type": "code",
   "execution_count": 70,
   "metadata": {},
   "outputs": [
    {
     "data": {
      "text/plain": [
       "0.980528511821975"
      ]
     },
     "execution_count": 70,
     "metadata": {},
     "output_type": "execute_result"
    }
   ],
   "source": [
    "KnnClf2_best = KnnClf2.best_estimator_ \n",
    "KnnClf2_best.fit(X_train, y_train)\n",
    "KnnClf2_best.score(X_test,y_test)"
   ]
  },
  {
   "cell_type": "markdown",
   "metadata": {},
   "source": [
    "# 可以看到,用sklearn中GridSearchCV与2.(1)用sklearn中的Cross-validation 结果相同,再次说明了GridSearchCV中的CV即为Cross-validation"
   ]
  },
  {
   "cell_type": "code",
   "execution_count": null,
   "metadata": {},
   "outputs": [],
   "source": []
  }
 ],
 "metadata": {
  "kernelspec": {
   "display_name": "Python 3",
   "language": "python",
   "name": "python3"
  },
  "language_info": {
   "codemirror_mode": {
    "name": "ipython",
    "version": 3
   },
   "file_extension": ".py",
   "mimetype": "text/x-python",
   "name": "python",
   "nbconvert_exporter": "python",
   "pygments_lexer": "ipython3",
   "version": "3.6.4"
  }
 },
 "nbformat": 4,
 "nbformat_minor": 2
}
